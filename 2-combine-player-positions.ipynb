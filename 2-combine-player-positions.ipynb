{
 "cells": [
  {
   "cell_type": "code",
   "execution_count": 1,
   "metadata": {},
   "outputs": [],
   "source": [
    "import pandas as pd\n",
    "\n",
    "comp_rec = pd.read_csv('./output/complete-record.csv')\n",
    "soccerbase = pd.read_csv('./output/soccerbase.csv')\n",
    "transfermarkt = pd.read_csv('./output/transfermarkt.csv')"
   ]
  },
  {
   "cell_type": "code",
   "execution_count": 2,
   "metadata": {},
   "outputs": [],
   "source": [
    "def replace_special_chars(name):\n",
    "    if 'Kané' not in name:\n",
    "        name = name.replace('á', 'a')\n",
    "        name = name.replace('é', 'e')\n",
    "        name = name.replace('é', 'e')\n",
    "        name = name.replace('è', 'e')\n",
    "        name = name.replace('É', 'E')\n",
    "        name = name.replace('ô', 'o')\n",
    "    return name\n",
    "\n",
    "dfs = [comp_rec, soccerbase, transfermarkt]\n",
    "cols = ['player_id', 'surname', 'forename', 'player_name']\n",
    "\n",
    "for df in dfs:\n",
    "    for col in cols:\n",
    "        df[col] = df[col].apply(replace_special_chars)"
   ]
  },
  {
   "cell_type": "code",
   "execution_count": 3,
   "metadata": {},
   "outputs": [
    {
     "name": "stdout",
     "output_type": "stream",
     "text": [
      "612\n",
      "465\n",
      "587\n"
     ]
    }
   ],
   "source": [
    "print(len(comp_rec))\n",
    "print(len(soccerbase))\n",
    "print(len(transfermarkt))"
   ]
  },
  {
   "cell_type": "code",
   "execution_count": 4,
   "metadata": {},
   "outputs": [
    {
     "data": {
      "text/plain": [
       "1079"
      ]
     },
     "execution_count": 4,
     "metadata": {},
     "output_type": "execute_result"
    }
   ],
   "source": [
    "player_ids = pd.concat([comp_rec, soccerbase, transfermarkt])['player_id'].drop_duplicates().to_list()\n",
    "\n",
    "len(player_ids)"
   ]
  },
  {
   "cell_type": "code",
   "execution_count": 5,
   "metadata": {},
   "outputs": [
    {
     "name": "stdout",
     "output_type": "stream",
     "text": [
      "1079\n"
     ]
    },
    {
     "data": {
      "text/html": [
       "<div>\n",
       "<style scoped>\n",
       "    .dataframe tbody tr th:only-of-type {\n",
       "        vertical-align: middle;\n",
       "    }\n",
       "\n",
       "    .dataframe tbody tr th {\n",
       "        vertical-align: top;\n",
       "    }\n",
       "\n",
       "    .dataframe thead th {\n",
       "        text-align: right;\n",
       "    }\n",
       "</style>\n",
       "<table border=\"1\" class=\"dataframe\">\n",
       "  <thead>\n",
       "    <tr style=\"text-align: right;\">\n",
       "      <th></th>\n",
       "      <th>player_id</th>\n",
       "      <th>surname</th>\n",
       "      <th>forename</th>\n",
       "      <th>player_name</th>\n",
       "      <th>player_dob</th>\n",
       "      <th>comp_rec_pos</th>\n",
       "      <th>soccerbase_pos</th>\n",
       "      <th>tm_pos_1</th>\n",
       "      <th>tm_pos_2</th>\n",
       "      <th>tm_pos_3</th>\n",
       "    </tr>\n",
       "  </thead>\n",
       "  <tbody>\n",
       "    <tr>\n",
       "      <th>0</th>\n",
       "      <td>ACourtAlan19340930</td>\n",
       "      <td>A'Court</td>\n",
       "      <td>Alan</td>\n",
       "      <td>Alan A'Court</td>\n",
       "      <td>1934-09-30</td>\n",
       "      <td>Outside Left</td>\n",
       "      <td>NaN</td>\n",
       "      <td>NaN</td>\n",
       "      <td>NaN</td>\n",
       "      <td>NaN</td>\n",
       "    </tr>\n",
       "    <tr>\n",
       "      <th>1</th>\n",
       "      <td>AchterbergJohn19710708</td>\n",
       "      <td>Achterberg</td>\n",
       "      <td>John</td>\n",
       "      <td>John Achterberg</td>\n",
       "      <td>1971-07-08</td>\n",
       "      <td>NaN</td>\n",
       "      <td>Goalkeeper</td>\n",
       "      <td>Goalkeeper</td>\n",
       "      <td>NaN</td>\n",
       "      <td>NaN</td>\n",
       "    </tr>\n",
       "    <tr>\n",
       "      <th>2</th>\n",
       "      <td>AdamsArthur</td>\n",
       "      <td>Adams</td>\n",
       "      <td>Arthur</td>\n",
       "      <td>Arthur Adams</td>\n",
       "      <td>NaN</td>\n",
       "      <td>Outside Right</td>\n",
       "      <td>NaN</td>\n",
       "      <td>NaN</td>\n",
       "      <td>NaN</td>\n",
       "      <td>NaN</td>\n",
       "    </tr>\n",
       "    <tr>\n",
       "      <th>3</th>\n",
       "      <td>AdamsEdward19081112</td>\n",
       "      <td>Adams</td>\n",
       "      <td>Edward</td>\n",
       "      <td>Edward Adams</td>\n",
       "      <td>1908-11-12</td>\n",
       "      <td>Outside Right</td>\n",
       "      <td>NaN</td>\n",
       "      <td>NaN</td>\n",
       "      <td>NaN</td>\n",
       "      <td>NaN</td>\n",
       "    </tr>\n",
       "    <tr>\n",
       "      <th>4</th>\n",
       "      <td>AdkinsNigel19650311</td>\n",
       "      <td>Adkins</td>\n",
       "      <td>Nigel</td>\n",
       "      <td>Nigel Adkins</td>\n",
       "      <td>1965-03-11</td>\n",
       "      <td>Goalkeeper</td>\n",
       "      <td>NaN</td>\n",
       "      <td>Goalkeeper</td>\n",
       "      <td>NaN</td>\n",
       "      <td>NaN</td>\n",
       "    </tr>\n",
       "  </tbody>\n",
       "</table>\n",
       "</div>"
      ],
      "text/plain": [
       "                player_id     surname forename      player_name  player_dob  \\\n",
       "0      ACourtAlan19340930     A'Court     Alan     Alan A'Court  1934-09-30   \n",
       "1  AchterbergJohn19710708  Achterberg     John  John Achterberg  1971-07-08   \n",
       "2             AdamsArthur       Adams   Arthur     Arthur Adams         NaN   \n",
       "3     AdamsEdward19081112       Adams   Edward     Edward Adams  1908-11-12   \n",
       "4     AdkinsNigel19650311      Adkins    Nigel     Nigel Adkins  1965-03-11   \n",
       "\n",
       "    comp_rec_pos soccerbase_pos    tm_pos_1 tm_pos_2 tm_pos_3  \n",
       "0   Outside Left            NaN         NaN      NaN      NaN  \n",
       "1            NaN     Goalkeeper  Goalkeeper      NaN      NaN  \n",
       "2  Outside Right            NaN         NaN      NaN      NaN  \n",
       "3  Outside Right            NaN         NaN      NaN      NaN  \n",
       "4     Goalkeeper            NaN  Goalkeeper      NaN      NaN  "
      ]
     },
     "execution_count": 5,
     "metadata": {},
     "output_type": "execute_result"
    }
   ],
   "source": [
    "all_players = pd.merge(comp_rec, soccerbase, on=['player_id', 'surname', 'forename', 'player_name', 'player_dob'], how='outer').merge(transfermarkt, on=['player_id', 'surname', 'forename', 'player_name', 'player_dob'], how='outer').drop_duplicates().reset_index(drop=True)\n",
    "\n",
    "print(len(all_players))\n",
    "\n",
    "all_players.head(5)"
   ]
  },
  {
   "cell_type": "code",
   "execution_count": 6,
   "metadata": {},
   "outputs": [
    {
     "data": {
      "text/html": [
       "<div>\n",
       "<style scoped>\n",
       "    .dataframe tbody tr th:only-of-type {\n",
       "        vertical-align: middle;\n",
       "    }\n",
       "\n",
       "    .dataframe tbody tr th {\n",
       "        vertical-align: top;\n",
       "    }\n",
       "\n",
       "    .dataframe thead th {\n",
       "        text-align: right;\n",
       "    }\n",
       "</style>\n",
       "<table border=\"1\" class=\"dataframe\">\n",
       "  <thead>\n",
       "    <tr style=\"text-align: right;\">\n",
       "      <th></th>\n",
       "      <th>player_id</th>\n",
       "      <th>surname</th>\n",
       "      <th>forename</th>\n",
       "      <th>player_name</th>\n",
       "      <th>player_dob</th>\n",
       "      <th>comp_rec_pos</th>\n",
       "      <th>soccerbase_pos</th>\n",
       "      <th>tm_pos_1</th>\n",
       "      <th>tm_pos_2</th>\n",
       "      <th>tm_pos_3</th>\n",
       "    </tr>\n",
       "  </thead>\n",
       "  <tbody>\n",
       "  </tbody>\n",
       "</table>\n",
       "</div>"
      ],
      "text/plain": [
       "Empty DataFrame\n",
       "Columns: [player_id, surname, forename, player_name, player_dob, comp_rec_pos, soccerbase_pos, tm_pos_1, tm_pos_2, tm_pos_3]\n",
       "Index: []"
      ]
     },
     "execution_count": 6,
     "metadata": {},
     "output_type": "execute_result"
    }
   ],
   "source": [
    "duplicates = all_players['player_id'].value_counts().to_frame().rename(columns={'index': 'player_id', 'player_id': 'count'}).reset_index().query('count > 1')['player_id'].to_list()\n",
    "\n",
    "all_players.query(\"player_id.isin(@duplicates)\")"
   ]
  },
  {
   "cell_type": "code",
   "execution_count": 7,
   "metadata": {},
   "outputs": [],
   "source": [
    "all_players.to_csv(\"./output/player-positions.csv\", index=False)"
   ]
  },
  {
   "cell_type": "code",
   "execution_count": null,
   "metadata": {},
   "outputs": [],
   "source": []
  }
 ],
 "metadata": {
  "kernelspec": {
   "display_name": "Python 3",
   "language": "python",
   "name": "python3"
  },
  "language_info": {
   "codemirror_mode": {
    "name": "ipython",
    "version": 3
   },
   "file_extension": ".py",
   "mimetype": "text/x-python",
   "name": "python",
   "nbconvert_exporter": "python",
   "pygments_lexer": "ipython3",
   "version": "3.12.1"
  }
 },
 "nbformat": 4,
 "nbformat_minor": 2
}
