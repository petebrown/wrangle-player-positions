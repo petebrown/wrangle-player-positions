{
 "cells": [
  {
   "cell_type": "markdown",
   "metadata": {},
   "source": [
    "# Create a dataset of player positions\n",
    "\n",
    "I don't currently have player positions in the dataset.\n",
    "\n",
    "Positions for pre-97 players are covered by A Complete Record.\n",
    "\n",
    "Players from 1997 onwards are covered by Soccerbase."
   ]
  },
  {
   "cell_type": "code",
   "execution_count": 1,
   "metadata": {},
   "outputs": [],
   "source": [
    "import pandas as pd\n",
    "\n",
    "# Import Complete Record player data\n",
    "\n",
    "df = pd.read_csv('https://raw.githubusercontent.com/petebrown/complete-record/main/output/player_stats.csv')"
   ]
  },
  {
   "cell_type": "code",
   "execution_count": 2,
   "metadata": {},
   "outputs": [
    {
     "data": {
      "text/html": [
       "<div>\n",
       "<style scoped>\n",
       "    .dataframe tbody tr th:only-of-type {\n",
       "        vertical-align: middle;\n",
       "    }\n",
       "\n",
       "    .dataframe tbody tr th {\n",
       "        vertical-align: top;\n",
       "    }\n",
       "\n",
       "    .dataframe thead th {\n",
       "        text-align: right;\n",
       "    }\n",
       "</style>\n",
       "<table border=\"1\" class=\"dataframe\">\n",
       "  <thead>\n",
       "    <tr style=\"text-align: right;\">\n",
       "      <th></th>\n",
       "      <th>page</th>\n",
       "      <th>row</th>\n",
       "      <th>surname</th>\n",
       "      <th>forename</th>\n",
       "      <th>date_of_birth</th>\n",
       "      <th>dob</th>\n",
       "      <th>dob_qtr</th>\n",
       "      <th>dob_yr</th>\n",
       "      <th>dob_yr_is_est</th>\n",
       "      <th>period</th>\n",
       "      <th>...</th>\n",
       "      <th>lc_gls</th>\n",
       "      <th>other_apps</th>\n",
       "      <th>other_sub</th>\n",
       "      <th>other_gls</th>\n",
       "      <th>total_apps</th>\n",
       "      <th>total_subs</th>\n",
       "      <th>total_gls</th>\n",
       "      <th>prev_club</th>\n",
       "      <th>next_club</th>\n",
       "      <th>is_loan</th>\n",
       "    </tr>\n",
       "  </thead>\n",
       "  <tbody>\n",
       "    <tr>\n",
       "      <th>0</th>\n",
       "      <td>101</td>\n",
       "      <td>1</td>\n",
       "      <td>A'Court</td>\n",
       "      <td>Alan</td>\n",
       "      <td>30-Sep-34</td>\n",
       "      <td>1934-09-30</td>\n",
       "      <td>3.0</td>\n",
       "      <td>1934.0</td>\n",
       "      <td>0</td>\n",
       "      <td>1</td>\n",
       "      <td>...</td>\n",
       "      <td>0</td>\n",
       "      <td>0</td>\n",
       "      <td>0</td>\n",
       "      <td>0</td>\n",
       "      <td>54</td>\n",
       "      <td>0</td>\n",
       "      <td>11</td>\n",
       "      <td>Liverpool</td>\n",
       "      <td>Norwich City</td>\n",
       "      <td>0</td>\n",
       "    </tr>\n",
       "    <tr>\n",
       "      <th>1</th>\n",
       "      <td>101</td>\n",
       "      <td>2</td>\n",
       "      <td>Adams</td>\n",
       "      <td>Arthur</td>\n",
       "      <td>NaN</td>\n",
       "      <td>NaN</td>\n",
       "      <td>NaN</td>\n",
       "      <td>NaN</td>\n",
       "      <td>0</td>\n",
       "      <td>1</td>\n",
       "      <td>...</td>\n",
       "      <td>0</td>\n",
       "      <td>0</td>\n",
       "      <td>0</td>\n",
       "      <td>0</td>\n",
       "      <td>4</td>\n",
       "      <td>0</td>\n",
       "      <td>1</td>\n",
       "      <td>NaN</td>\n",
       "      <td>NaN</td>\n",
       "      <td>0</td>\n",
       "    </tr>\n",
       "    <tr>\n",
       "      <th>2</th>\n",
       "      <td>101</td>\n",
       "      <td>3</td>\n",
       "      <td>Adams</td>\n",
       "      <td>Edward</td>\n",
       "      <td>12-Nov-08</td>\n",
       "      <td>1908-11-12</td>\n",
       "      <td>4.0</td>\n",
       "      <td>1908.0</td>\n",
       "      <td>0</td>\n",
       "      <td>1</td>\n",
       "      <td>...</td>\n",
       "      <td>0</td>\n",
       "      <td>0</td>\n",
       "      <td>0</td>\n",
       "      <td>0</td>\n",
       "      <td>3</td>\n",
       "      <td>0</td>\n",
       "      <td>0</td>\n",
       "      <td>Bromborough Pool</td>\n",
       "      <td>Bromborough Pool</td>\n",
       "      <td>0</td>\n",
       "    </tr>\n",
       "  </tbody>\n",
       "</table>\n",
       "<p>3 rows × 31 columns</p>\n",
       "</div>"
      ],
      "text/plain": [
       "   page  row  surname forename date_of_birth         dob  dob_qtr  dob_yr  \\\n",
       "0   101    1  A'Court     Alan     30-Sep-34  1934-09-30      3.0  1934.0   \n",
       "1   101    2    Adams   Arthur           NaN         NaN      NaN     NaN   \n",
       "2   101    3    Adams   Edward     12-Nov-08  1908-11-12      4.0  1908.0   \n",
       "\n",
       "   dob_yr_is_est  period  ... lc_gls  other_apps  other_sub  other_gls  \\\n",
       "0              0       1  ...      0           0          0          0   \n",
       "1              0       1  ...      0           0          0          0   \n",
       "2              0       1  ...      0           0          0          0   \n",
       "\n",
       "   total_apps  total_subs  total_gls         prev_club         next_club  \\\n",
       "0          54           0         11         Liverpool      Norwich City   \n",
       "1           4           0          1               NaN               NaN   \n",
       "2           3           0          0  Bromborough Pool  Bromborough Pool   \n",
       "\n",
       "   is_loan  \n",
       "0        0  \n",
       "1        0  \n",
       "2        0  \n",
       "\n",
       "[3 rows x 31 columns]"
      ]
     },
     "execution_count": 2,
     "metadata": {},
     "output_type": "execute_result"
    }
   ],
   "source": [
    "df.head(3)"
   ]
  },
  {
   "cell_type": "markdown",
   "metadata": {},
   "source": [
    "Positions are contained in the `position` column, but some are messy."
   ]
  },
  {
   "cell_type": "code",
   "execution_count": 3,
   "metadata": {},
   "outputs": [
    {
     "data": {
      "text/plain": [
       "array(['OL', 'OR', 'G', 'F', 'RH', 'LB', 'WH', 'CF', 'CD', 'MF', 'IR',\n",
       "       'CH', 'IF', 'HB', 'FB', 'IL', 'W', 'D', 'RB', 'w', 'LH', 'M', 'S',\n",
       "       's'], dtype=object)"
      ]
     },
     "execution_count": 3,
     "metadata": {},
     "output_type": "execute_result"
    }
   ],
   "source": [
    "df.position.unique()"
   ]
  },
  {
   "cell_type": "code",
   "execution_count": 4,
   "metadata": {},
   "outputs": [],
   "source": [
    "def fix_positions(pos):\n",
    "    if pos == 'fR':\n",
    "        return 'IR'\n",
    "    if pos == 'I CF':\n",
    "        return 'CF'\n",
    "    if pos == 'I WH':\n",
    "        return 'WH'\n",
    "    if pos == 'M':\n",
    "        return 'MF'\n",
    "    if pos == 'RB·':\n",
    "        return 'RB'\n",
    "    elif pos == 's':\n",
    "        return 'S'\n",
    "    elif pos == 'w':\n",
    "        return 'W'\n",
    "    \n",
    "    else:\n",
    "        return pos\n",
    "\n",
    "df.position = df.position.apply(fix_positions)"
   ]
  },
  {
   "cell_type": "code",
   "execution_count": 5,
   "metadata": {},
   "outputs": [],
   "source": [
    "df[\"comp_rec_pos\"] = df.position.map({\n",
    "    \"G\":\"Goalkeeper\",\n",
    "    \"D\":\"Defender\",\n",
    "    \"HB\":\"Half Back\",\n",
    "    \"FB\":\"Fullback\",\n",
    "    \"RB\":\"Right Back\",\n",
    "    \"LB\":\"Left Back\",\n",
    "    \"CH\":\"Center Half\",\n",
    "    \"CD\":\"Central Defender\",\n",
    "    \"WH\":\"Wing Half\",\n",
    "    \"RH\":\"Right Half\",\n",
    "    \"LH\":\"Left Half\",\n",
    "    \"W\":\"Winger\",\n",
    "    \"MF\":\"Midfielder\",\n",
    "    \"OR\":\"Outside Right\",\n",
    "    \"OL\":\"Outside Left\",\n",
    "    \"IF\":\"Inside Forward\",\n",
    "    \"IR\":\"Inside Right\",\n",
    "    \"IL\":\"Inside Left\",\n",
    "    \"CF\":\"Center Forward\",\n",
    "    \"F\":\"Forward\",\n",
    "    \"S\":\"Striker\"\n",
    "})"
   ]
  },
  {
   "cell_type": "markdown",
   "metadata": {},
   "source": [
    "# Assign `player_id` to each player\n",
    "\n",
    "I don't currently have a unique identifier for each player.\n",
    "\n",
    "Player IDs will be created by combining player names and dates of birth."
   ]
  },
  {
   "cell_type": "code",
   "execution_count": 6,
   "metadata": {},
   "outputs": [],
   "source": [
    "plr_ids = df[['surname', 'forename', 'date_of_birth', 'dob', 'dob_qtr', 'dob_yr', 'dob_yr_is_est']].copy()"
   ]
  },
  {
   "cell_type": "code",
   "execution_count": 7,
   "metadata": {},
   "outputs": [],
   "source": [
    "def add_player_ids(df):\n",
    "    '''\n",
    "    Create a player_id from the surname, forename and date of birth, where available.\n",
    "    '''\n",
    "\n",
    "    # Where nothing is known about the player's date of birth, create a player_id from the surname and forename\n",
    "    df.loc[(df.dob.isnull()) & (df.dob_qtr.isnull()) & (df.dob_yr.isnull()), 'player_id'] = df.surname + df.forename\n",
    "\n",
    "    # Where only the year of birth is known, create a player_id from the surname, forename and year of birth\n",
    "    df.loc[(df.dob.isnull()) & (df.dob_qtr.isnull()) & (~df.dob_yr.isnull()), 'player_id'] = df.surname + df.forename + df.dob_yr.astype(str)\n",
    "\n",
    "    # Where only the birth year and quarter are known, create a player_id from the surname, forename, quarter and year of birth\n",
    "    df.loc[(df.dob.isnull()) & (~df.dob_qtr.isnull()) & (~df.dob_yr.isnull()), 'player_id'] = df.surname + df.forename + df.dob_qtr.astype(str) + df.dob_yr.astype(str)\n",
    "\n",
    "    # Where the date of birth is known, create a player_id from the surname, forename and date of birth\n",
    "    df.loc[(df.dob.notnull()), 'player_id'] = df.surname + df.forename + df.dob\n",
    "\n",
    "    df['player_id'] = df['player_id'].str.replace('.0', '').str.replace('-', '').str.replace(\"'\", '').str.replace(' ', '')\n",
    "\n",
    "    return df\n",
    "\n",
    "plr_ids = add_player_ids(plr_ids)"
   ]
  },
  {
   "cell_type": "code",
   "execution_count": 8,
   "metadata": {},
   "outputs": [
    {
     "data": {
      "text/html": [
       "<div>\n",
       "<style scoped>\n",
       "    .dataframe tbody tr th:only-of-type {\n",
       "        vertical-align: middle;\n",
       "    }\n",
       "\n",
       "    .dataframe tbody tr th {\n",
       "        vertical-align: top;\n",
       "    }\n",
       "\n",
       "    .dataframe thead th {\n",
       "        text-align: right;\n",
       "    }\n",
       "</style>\n",
       "<table border=\"1\" class=\"dataframe\">\n",
       "  <thead>\n",
       "    <tr style=\"text-align: right;\">\n",
       "      <th></th>\n",
       "      <th>surname</th>\n",
       "      <th>forename</th>\n",
       "      <th>date_of_birth</th>\n",
       "      <th>dob</th>\n",
       "      <th>dob_qtr</th>\n",
       "      <th>dob_yr</th>\n",
       "      <th>dob_yr_is_est</th>\n",
       "      <th>player_id</th>\n",
       "    </tr>\n",
       "  </thead>\n",
       "  <tbody>\n",
       "  </tbody>\n",
       "</table>\n",
       "</div>"
      ],
      "text/plain": [
       "Empty DataFrame\n",
       "Columns: [surname, forename, date_of_birth, dob, dob_qtr, dob_yr, dob_yr_is_est, player_id]\n",
       "Index: []"
      ]
     },
     "execution_count": 8,
     "metadata": {},
     "output_type": "execute_result"
    }
   ],
   "source": [
    "# Check for any missing player_id values\n",
    "plr_ids[plr_ids.player_id.isnull()]"
   ]
  },
  {
   "cell_type": "markdown",
   "metadata": {},
   "source": [
    "# Add player positions to the dataset"
   ]
  },
  {
   "cell_type": "code",
   "execution_count": 9,
   "metadata": {},
   "outputs": [],
   "source": [
    "comp_rec_pos = df.copy()\n",
    "\n",
    "comp_rec_pos = add_player_ids(comp_rec_pos)\n",
    "\n",
    "comp_rec_pos['player_name'] = comp_rec_pos.forename + ' ' + comp_rec_pos.surname\n",
    "\n",
    "comp_rec_pos = comp_rec_pos[['player_id', 'surname', 'forename', 'player_name', 'dob', 'comp_rec_pos']].copy()\n",
    "\n",
    "comp_rec_pos = comp_rec_pos.rename(columns={'dob':'player_dob'})\n",
    "\n",
    "comp_rec_pos = comp_rec_pos.drop_duplicates().reset_index(drop=True)"
   ]
  },
  {
   "cell_type": "code",
   "execution_count": 10,
   "metadata": {},
   "outputs": [
    {
     "data": {
      "text/html": [
       "<div>\n",
       "<style scoped>\n",
       "    .dataframe tbody tr th:only-of-type {\n",
       "        vertical-align: middle;\n",
       "    }\n",
       "\n",
       "    .dataframe tbody tr th {\n",
       "        vertical-align: top;\n",
       "    }\n",
       "\n",
       "    .dataframe thead th {\n",
       "        text-align: right;\n",
       "    }\n",
       "</style>\n",
       "<table border=\"1\" class=\"dataframe\">\n",
       "  <thead>\n",
       "    <tr style=\"text-align: right;\">\n",
       "      <th></th>\n",
       "      <th>player_id</th>\n",
       "      <th>surname</th>\n",
       "      <th>forename</th>\n",
       "      <th>player_name</th>\n",
       "      <th>player_dob</th>\n",
       "      <th>comp_rec_pos</th>\n",
       "    </tr>\n",
       "  </thead>\n",
       "  <tbody>\n",
       "    <tr>\n",
       "      <th>0</th>\n",
       "      <td>ACourtAlan19340930</td>\n",
       "      <td>A'Court</td>\n",
       "      <td>Alan</td>\n",
       "      <td>Alan A'Court</td>\n",
       "      <td>1934-09-30</td>\n",
       "      <td>Outside Left</td>\n",
       "    </tr>\n",
       "    <tr>\n",
       "      <th>1</th>\n",
       "      <td>AdamsArthur</td>\n",
       "      <td>Adams</td>\n",
       "      <td>Arthur</td>\n",
       "      <td>Arthur Adams</td>\n",
       "      <td>NaN</td>\n",
       "      <td>Outside Right</td>\n",
       "    </tr>\n",
       "    <tr>\n",
       "      <th>2</th>\n",
       "      <td>AdamsEdward19081112</td>\n",
       "      <td>Adams</td>\n",
       "      <td>Edward</td>\n",
       "      <td>Edward Adams</td>\n",
       "      <td>1908-11-12</td>\n",
       "      <td>Outside Right</td>\n",
       "    </tr>\n",
       "    <tr>\n",
       "      <th>3</th>\n",
       "      <td>AdkinsNigel19650311</td>\n",
       "      <td>Adkins</td>\n",
       "      <td>Nigel</td>\n",
       "      <td>Nigel Adkins</td>\n",
       "      <td>1965-03-11</td>\n",
       "      <td>Goalkeeper</td>\n",
       "    </tr>\n",
       "    <tr>\n",
       "      <th>4</th>\n",
       "      <td>AlcockEdward1914</td>\n",
       "      <td>Alcock</td>\n",
       "      <td>Edward</td>\n",
       "      <td>Edward Alcock</td>\n",
       "      <td>NaN</td>\n",
       "      <td>Outside Left</td>\n",
       "    </tr>\n",
       "  </tbody>\n",
       "</table>\n",
       "</div>"
      ],
      "text/plain": [
       "             player_id  surname forename    player_name  player_dob  \\\n",
       "0   ACourtAlan19340930  A'Court     Alan   Alan A'Court  1934-09-30   \n",
       "1          AdamsArthur    Adams   Arthur   Arthur Adams         NaN   \n",
       "2  AdamsEdward19081112    Adams   Edward   Edward Adams  1908-11-12   \n",
       "3  AdkinsNigel19650311   Adkins    Nigel   Nigel Adkins  1965-03-11   \n",
       "4     AlcockEdward1914   Alcock   Edward  Edward Alcock         NaN   \n",
       "\n",
       "    comp_rec_pos  \n",
       "0   Outside Left  \n",
       "1  Outside Right  \n",
       "2  Outside Right  \n",
       "3     Goalkeeper  \n",
       "4   Outside Left  "
      ]
     },
     "execution_count": 10,
     "metadata": {},
     "output_type": "execute_result"
    }
   ],
   "source": [
    "comp_rec_pos.head(5)"
   ]
  },
  {
   "cell_type": "code",
   "execution_count": 11,
   "metadata": {},
   "outputs": [],
   "source": [
    "comp_rec_pos.to_csv('./output/complete-record.csv', index=False)"
   ]
  },
  {
   "cell_type": "code",
   "execution_count": null,
   "metadata": {},
   "outputs": [],
   "source": []
  }
 ],
 "metadata": {
  "kernelspec": {
   "display_name": "Python 3",
   "language": "python",
   "name": "python3"
  },
  "language_info": {
   "codemirror_mode": {
    "name": "ipython",
    "version": 3
   },
   "file_extension": ".py",
   "mimetype": "text/x-python",
   "name": "python",
   "nbconvert_exporter": "python",
   "pygments_lexer": "ipython3",
   "version": "3.12.1"
  }
 },
 "nbformat": 4,
 "nbformat_minor": 2
}
